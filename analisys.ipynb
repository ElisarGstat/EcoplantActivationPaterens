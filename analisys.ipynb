{
 "cells": [
  {
   "cell_type": "code",
   "execution_count": null,
   "metadata": {},
   "outputs": [],
   "source": [
    "import os\n",
    "from IPython.display import display, HTML\n",
    "import pandas as pd\n",
    "import numpy as np\n",
    "import pickle\n",
    "import re\n",
    "import glob\n",
    "\n",
    "from main import *\n",
    "from visualisation import *\n",
    "\n",
    "import plotly.express as px\n",
    "import plotly.offline as py\n",
    "import plotly.graph_objects as go\n",
    "from plotly.subplots import make_subplots\n",
    "from plotly.offline import iplot, init_notebook_mode\n",
    "init_notebook_mode(connected=False)\n",
    "pd.options.plotting.backend = 'plotly'\n",
    "\n",
    "\n",
    "pd.set_option('display.float_format',  '{:,.2f}'.format)\n",
    "pd.set_option('display.max_columns', 50 )\n",
    "pd.set_option('display.width', None)\n",
    "pd.set_option('display.max_rows', 500)\n",
    "\n",
    "from IPython.core.display import display, HTML\n",
    "display(HTML(\"<style>.container { width:100% !important; }</style>\"))\n",
    "\n",
    "%load_ext autoreload\n",
    "%autoreload 2"
   ]
  },
  {
   "cell_type": "code",
   "execution_count": null,
   "metadata": {},
   "outputs": [],
   "source": [
    "%%time\n",
    "data = pd.read_csv(\n",
    "                    'data/data.csv', \n",
    "                   parse_dates=['ts']\n",
    "                  )"
   ]
  },
  {
   "cell_type": "code",
   "execution_count": null,
   "metadata": {},
   "outputs": [],
   "source": [
    "print(f\"{data['ts'].min()}, {data['ts'].max()}, {len(data)}\")"
   ]
  },
  {
   "cell_type": "code",
   "execution_count": null,
   "metadata": {},
   "outputs": [],
   "source": [
    "%%time\n",
    "df, df_hourly, devices_with_faileures = transform_data(data)"
   ]
  },
  {
   "cell_type": "code",
   "execution_count": null,
   "metadata": {},
   "outputs": [],
   "source": [
    "{149:'one month of data with variance', \n",
    " 150:'was off only drnnig first month', \n",
    " 157:'sevral months of data with a long malnuduncton in the middle', \n",
    " 180:'kinda weird - second half only 0.5',\n",
    " 199:'is on most time', \n",
    " 245:'is on all the time', \n",
    " 287:'good', \n",
    " 296:'good', \n",
    " 299:'good', \n",
    " \n",
    " 93:'good', 158:'qutr of data', 159:'good', 160:'good', 161:'ok', 170:'good', 173:'good', 176:'qutr of data', 177:'qutr of data', \n",
    " 229:'off durning second half', \n",
    " 284:'good', 293:'good', 426:'always off'\n",
    "  \n",
    "}"
   ]
  },
  {
   "cell_type": "code",
   "execution_count": null,
   "metadata": {},
   "outputs": [],
   "source": [
    "# df_hourly.groupby('device_id').agg({'ind_shutdown_mal': ['mean', 'sum','count']}).sort_values(('ind_shutdown_mal', 'mean'), ascending=False)"
   ]
  },
  {
   "cell_type": "code",
   "execution_count": null,
   "metadata": {},
   "outputs": [],
   "source": [
    "status_dict_des = {\n",
    "    0:'on', ## on\n",
    "    0.5:'unload',\n",
    "    1:'off',\n",
    "    2:'unload',\n",
    "    3:'off', \n",
    "    4:'off',\n",
    "    5:'unload'\n",
    "}\n",
    "\n",
    "status_dict = {0:2, \n",
    "               0.5:1,\n",
    "              1:0,\n",
    "              2:1,\n",
    "              3:0,\n",
    "              4:0}\n",
    "\n",
    "status_dict_des2 = {\n",
    "    0:'off', ## on\n",
    "    1:'energy_consuming',\n",
    "    2:'compressing'\n",
    "}\n"
   ]
  },
  {
   "cell_type": "code",
   "execution_count": null,
   "metadata": {},
   "outputs": [],
   "source": [
    "df.sample(5)"
   ]
  },
  {
   "cell_type": "code",
   "execution_count": null,
   "metadata": {},
   "outputs": [],
   "source": [
    "df['dict_compressor_status'] = df['compressor_status'].map(status_dict)\n",
    "df['compressing']  = np.where(df['compressor_status']==0, 1, 0)\n",
    "df['energy_consuming'] = np.where(df['compressor_status'].isin([0, 2, 0.5]), '1', '0')\n",
    "df['dict_compressor_status_des'] = df['dict_compressor_status'].map(status_dict_des2)\n",
    "\n",
    "\n"
   ]
  },
  {
   "cell_type": "code",
   "execution_count": null,
   "metadata": {},
   "outputs": [],
   "source": [
    "# pp = df.groupby(['dict_compressor_status_des', 'device_id', ]).agg({'ind_shutdown_mal':['mean', 'count']})\n",
    "# pp.loc[pp[('ind_shutdown_mal', 'mean')]>0.00001, :]dict_compressor_status"
   ]
  },
  {
   "cell_type": "code",
   "execution_count": null,
   "metadata": {},
   "outputs": [],
   "source": [
    "%%time\n",
    "df_tmp = df.groupby(['device_id', 'dict_compressor_status_des', 'dict_compressor_status', 'compressing']).resample('2H').agg({'compressor_status':'count', 'ind_shutdown_mal':'max'})\n",
    "df_tmp2 = pd.DataFrame(df_tmp.groupby(['ts', 'device_id'])[['compressor_status']].max())\n",
    "sample_df = df_tmp.reset_index().merge(df_tmp2, on=['device_id', 'ts', 'compressor_status']).drop('compressor_status', axis=1).sort_values(['device_id', 'ts'])\n",
    "sample_df[\"shutdown_mal\"] = sample_df[\"ind_shutdown_mal\"].map({0.00:'normal', 1.00:'mulfunction'})\n",
    "# sample_df[\"ind_shutdown_mal\"] = sample_df[\"ind_shutdown_mal\"].astype('float')\n",
    "sample_df"
   ]
  },
  {
   "cell_type": "code",
   "execution_count": null,
   "metadata": {},
   "outputs": [],
   "source": [
    "sample_df#[\"ind_shutdown_mal\"].mean()\n",
    "sample_df[\"size_shutdown_mal\"] = sample_df[\"ind_shutdown_mal\"].map({0.00:0.05, 1.00:0.07})"
   ]
  },
  {
   "cell_type": "code",
   "execution_count": null,
   "metadata": {},
   "outputs": [],
   "source": [
    "# sample_df.loc[sample_df['ind_shutdown_mal']==1, ['dict_compressor_status_des', 'dict_compressor_status']]# = 'ind_shutdown_mal'\n",
    "# sample_df['ind_shutdown_mal'] = sample_df['ind_shutdown_mal'].astype('str')"
   ]
  },
  {
   "cell_type": "code",
   "execution_count": null,
   "metadata": {},
   "outputs": [],
   "source": [
    "def ploti_o(df, show):\n",
    "    df_tmp = df.query('device_id==@show').copy()\n",
    "    label_mean = df_tmp[\"ind_shutdown_mal\"].mean()\n",
    "    \n",
    "#     df_tmp['ind_shutdown_mal'] = df_tmp['ind_shutdown_mal'].astype('str')  \n",
    "    print([show, label_mean])\n",
    "#     df_tmp = df_tmp.sample(frac=0.4) \n",
    "#     df_tmp.sort_values('ts', inplace=True)\n",
    "    \n",
    "    fig = px.scatter(df_tmp, \n",
    "                     x='ts', \n",
    "                     y='dict_compressor_status_des', \n",
    "                     color='shutdown_mal',\n",
    "#                      size='size_shutdown_mal'\n",
    "#                      hover_name = 'dict_compressor_status_des'\n",
    "                    )\n",
    "    fig.update_layout(title=f'Compressor #{show} with label {label_mean}',\n",
    "                  yaxis_zeroline=False, xaxis_zeroline=False)\n",
    "    \n",
    "    fig.write_html(f\"output/scater/scater_{show}.html\")\n",
    "    "
   ]
  },
  {
   "cell_type": "code",
   "execution_count": null,
   "metadata": {},
   "outputs": [],
   "source": [
    "ploti_o(sample_df, '296')"
   ]
  },
  {
   "cell_type": "code",
   "execution_count": null,
   "metadata": {},
   "outputs": [],
   "source": [
    "pp = df.groupby('device_id')['ind_shutdown_mal'].mean().sort_values()\n",
    "for i in pp.index:\n",
    "    ploti_o(sample_df, str(i))"
   ]
  },
  {
   "cell_type": "code",
   "execution_count": null,
   "metadata": {},
   "outputs": [],
   "source": [
    "# df_tmp = df.groupby('device_id').resample('2H').agg({'dict_compressor_status':['mode'], 'ind_shutdown_mal':'max'})\n",
    "pp = df.groupby('device_id').resample('2H')['dict_compressor_status'].apply(pd.Series.mode)\n",
    "pp"
   ]
  },
  {
   "cell_type": "code",
   "execution_count": null,
   "metadata": {},
   "outputs": [],
   "source": [
    "pp"
   ]
  },
  {
   "cell_type": "code",
   "execution_count": null,
   "metadata": {},
   "outputs": [],
   "source": [
    "df.loc[(df['device_id']==93) & (df.index.month.values==7) & (df.index.day.values==1) & (df.index.hour.values < 8), 'dict_compressor_status']"
   ]
  },
  {
   "cell_type": "code",
   "execution_count": null,
   "metadata": {},
   "outputs": [],
   "source": [
    "df.index.month.values"
   ]
  },
  {
   "cell_type": "code",
   "execution_count": null,
   "metadata": {},
   "outputs": [],
   "source": []
  },
  {
   "cell_type": "code",
   "execution_count": null,
   "metadata": {},
   "outputs": [],
   "source": []
  },
  {
   "cell_type": "code",
   "execution_count": null,
   "metadata": {},
   "outputs": [],
   "source": [
    "df2"
   ]
  },
  {
   "cell_type": "code",
   "execution_count": null,
   "metadata": {},
   "outputs": [],
   "source": []
  },
  {
   "cell_type": "code",
   "execution_count": null,
   "metadata": {},
   "outputs": [],
   "source": []
  },
  {
   "cell_type": "code",
   "execution_count": null,
   "metadata": {},
   "outputs": [],
   "source": []
  },
  {
   "cell_type": "code",
   "execution_count": null,
   "metadata": {},
   "outputs": [],
   "source": []
  },
  {
   "cell_type": "code",
   "execution_count": null,
   "metadata": {},
   "outputs": [],
   "source": []
  },
  {
   "cell_type": "code",
   "execution_count": null,
   "metadata": {},
   "outputs": [],
   "source": []
  },
  {
   "cell_type": "code",
   "execution_count": null,
   "metadata": {},
   "outputs": [],
   "source": []
  },
  {
   "cell_type": "code",
   "execution_count": null,
   "metadata": {},
   "outputs": [],
   "source": [
    "stable_devices = [287, 296, 299, 93, 159, 160, 170, 173, 284, 293]\n",
    "df_filtered = df_filtered[df_filtered['device_id'].isin(stable_devices)]"
   ]
  },
  {
   "cell_type": "code",
   "execution_count": null,
   "metadata": {},
   "outputs": [],
   "source": [
    "df_tmp = df.groupby('device_id').resample('2H').agg({'active_ind':['sum', 'count'], 'ind_shutdown_mal':'max'})\n",
    "df_tmp['ratio'] = df_tmp[('active_ind', 'sum')] / df_tmp[('active_ind', 'count')]\n",
    "df_tmp = df_tmp.reset_index()\n",
    "df_tmp.columns = ['device_id', 'ts', 'sum_active_ind','count_active_ind', 'max_ind_shutdown_mal', 'ratio']\n",
    "df_tmp['max_ind_shutdown_mal'] = df_tmp['max_ind_shutdown_mal'].astype('category')"
   ]
  },
  {
   "cell_type": "code",
   "execution_count": null,
   "metadata": {},
   "outputs": [],
   "source": [
    "pp = devices_with_faileures.sort_values(ascending=False).index\n",
    "for i in df_tmp['device_id'].value_counts().index:\n",
    "    print(i)\n",
    "    df_plt = df_tmp.loc[df_tmp['device_id']==i, :]\n",
    "    fig = px.scatter(df_plt, x='ts', y='ratio', color='max_ind_shutdown_mal')\n",
    "    fig.write_html(f\"output/activaton ratio/activaton ratio_{i}.html\")"
   ]
  },
  {
   "cell_type": "code",
   "execution_count": null,
   "metadata": {},
   "outputs": [],
   "source": []
  },
  {
   "cell_type": "code",
   "execution_count": null,
   "metadata": {},
   "outputs": [],
   "source": [
    "fig = px.scatter(df_plt, x='ts', y='ratio', color='max_ind_shutdown_mal')\n",
    "fig.write_html(f\"output/activaton ratio/activaton ratio_{i}.html\")"
   ]
  },
  {
   "cell_type": "code",
   "execution_count": null,
   "metadata": {},
   "outputs": [],
   "source": [
    "i = 296\n",
    "fig = px.scatter(df_tmp.query('device_id==296'), x='ts', y='sum_active_ind', color='max_ind_shutdown_mal')\n",
    "fig.write_html(f\"output/activaton ratio/activaton ratio_{i}.html\")"
   ]
  },
  {
   "cell_type": "code",
   "execution_count": null,
   "metadata": {},
   "outputs": [],
   "source": [
    "pp = devices_with_faileures.sort_values(ascending=False).index\n",
    "for i in pp[:3]:\n",
    "    print(i)\n",
    "    fig = px.scatter(df_tmp.query('device_id==@i'), x='ts', y='ratio', color='max_ind_shutdown_mal', hover_name)\n",
    "    fig.write_html(f\"output/activaton ratio/activaton ratio_{i}.html\")"
   ]
  },
  {
   "cell_type": "code",
   "execution_count": null,
   "metadata": {},
   "outputs": [],
   "source": [
    "{149:'one month of data with variance', \n",
    " 150:'was off only drnnig first month', \n",
    " 157:'sevral months of data with a long malnuduncton in the middle', \n",
    " 180:'kinda weird - second half only 0.5',\n",
    " 199:'is on most time', \n",
    " 245:'is on all the time', \n",
    " 287:'good', \n",
    " 296:'good', \n",
    " 299:'good', \n",
    " \n",
    " 93:'good', 158:'qutr of data', 159:'good', 160:'good', 161:'ok', 170:'good', 173:'good', 176:'qutr of data', 177:'qutr of data', \n",
    " 229:'off durning second half', \n",
    " 284:'good', 293:'good', 426:'always off'\n",
    "  \n",
    "}"
   ]
  }
 ],
 "metadata": {
  "kernelspec": {
   "display_name": "Python 3",
   "language": "python",
   "name": "python3"
  },
  "language_info": {
   "codemirror_mode": {
    "name": "ipython",
    "version": 3
   },
   "file_extension": ".py",
   "mimetype": "text/x-python",
   "name": "python",
   "nbconvert_exporter": "python",
   "pygments_lexer": "ipython3",
   "version": "3.7.7"
  }
 },
 "nbformat": 4,
 "nbformat_minor": 4
}
